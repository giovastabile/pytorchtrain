{
 "cells": [
  {
   "cell_type": "code",
   "execution_count": 15,
   "metadata": {},
   "outputs": [],
   "source": [
    "import numpy as np\n",
    "import torch\n",
    "from torchvision import transform\n",
    "from torch import nn\n",
    "import matplotlib.pyplot as plt\n",
    "import os\n",
    "\n",
    "# Net Structure\n",
    "def Net1(inp_np_train, inp_np_test, out_np_train, out_np_test, epochs, NmU, NmNut, angles_train, angles_test, consider_angles):\n",
    "    \n",
    "    # Divide train and test\n",
    "    if consider_angles:\n",
    "        inp_np_train = np.append(np.transpose(np.expand_dims(angles_train,axis=0)),inp_np_train[:,0:NmU], axis = 1)\n",
    "        inp_np_test = np.append(np.transpose(np.expand_dims(angles_test,axis=0)),inp_np_test[:,0:NmU], axis = 1)\n",
    "    else:\n",
    "        inp_np_train = inp_np_train[:,0:NmU]\n",
    "        inp_np_test = inp_np_test[:,0:NmU]\n",
    "    out_np_train = out_np_train[:,0:NmNut]\n",
    "    out_np_test = out_np_test[:,0:NmNut]\n",
    "    \n",
    "    # Create NN Network 1\n",
    "    Nin = inp_np_train.shape[1]\n",
    "    Nout = out_np_train.shape[1]\n",
    "    model = torch.nn.Sequential(\n",
    "        torch.nn.Linear(Nin, 64),\n",
    "        torch.nn.ReLU(),\n",
    "        torch.nn.Linear(64, 128),\n",
    "        torch.nn.ReLU(),\n",
    "        torch.nn.Linear(128, 64),\n",
    "        torch.nn.ReLU(),\n",
    "        torch.nn.Linear(64, Nout),\n",
    "    )\n",
    "    \n",
    "    # Convert to torch\n",
    "    inp_train = torch.from_numpy(inp_np_train).type(torch.float32)\n",
    "    out_train = torch.from_numpy(out_np_train).type(torch.float32)\n",
    "    inp_test = torch.from_numpy(inp_np_test).type(torch.float32)\n",
    "    out_test = torch.from_numpy(out_np_test).type(torch.float32)\n",
    "    \n",
    "    x = transforms.Normalize()\n",
    "    inp_train = x(inp_train)\n",
    "    \n",
    "    mi_train = inp_train.mean(0, keepdim=True)\n",
    "    si_train = inp_train.std(0, unbiased=False, keepdim=True)    \n",
    "    inp_train -= mi_train\n",
    "    inp_train /= si_train\n",
    "    \n",
    "    print(inp_train)\n",
    " \n",
    "\n",
    "    \n",
    "    # Loss Functions\n",
    "    loss_fn = torch.nn.MSELoss(reduction='sum')\n",
    "    \n",
    "    learning_rate = 1e-4\n",
    "    optimizer = torch.optim.Adam(model.parameters(), lr=learning_rate)\n",
    "    \n",
    "    tplot = []\n",
    "    lossplottrain = []\n",
    "    lossplottest = []\n",
    "    \n",
    "    for t in range(epochs):\n",
    "        # Forward pass: compute predicted y by passing x to the model.\n",
    "        y_pred_train = model(inp_train)\n",
    "        y_pred_test = model(inp_test)\n",
    "    \n",
    "        # Compute and print loss.\n",
    "        loss_train = loss_fn(y_pred_train, out_train)\n",
    "        loss_test = loss_fn(y_pred_test, out_test)\n",
    "        if t % 100 == 99:\n",
    "            print(t, \"loss on train\" , loss_train.item())\n",
    "            print(t, \"loss on test\" , loss_test.item())\n",
    "            tplot.append(t)\n",
    "            lossplottrain.append(loss_train.item())\n",
    "            lossplottest.append(loss_test.item())\n",
    "    \n",
    "        # Before the backward pass, use the optimizer object to zero all of the\n",
    "        # gradients for the variables it will update (which are the learnable\n",
    "        # weights of the model). This is because by default, gradients are\n",
    "        # accumulated in buffers( i.e, not overwritten) whenever .backward()\n",
    "        # is called. Checkout docs of torch.autograd.backward for more details.\n",
    "        optimizer.zero_grad()\n",
    "    \n",
    "        # Backward pass: compute gradient of the loss with respect to model\n",
    "        # parameters\n",
    "        loss_train.backward()\n",
    "    \n",
    "        # Calling the step function on an Optimizer makes an update to its\n",
    "        # parameters\n",
    "        optimizer.step()\n",
    "    return tplot,lossplottrain,lossplottest,model\n",
    "\n",
    "## Input Data\n",
    "# Number of modes for U\n",
    "NmU = 10 \n",
    "# Number of modes for Nut\n",
    "NmNut = 10\n",
    "# Number of Epochs\n",
    "Epochs = 10000\n",
    "\n",
    "## Read the coefficients train\n",
    "# U\n",
    "inp_np_train_U = np.load(\"train/coeffL2U.npy\")\n",
    "# P\n",
    "inp_np_train_P = np.load(\"train/coeffL2P.npy\")\n",
    "# Nut\n",
    "out_np_train = np.load(\"train/coeffL2Nut.npy\")\n",
    "# Read Angles from file train\n",
    "angles_train = np.loadtxt(\"train/angOff_mat.txt\")\n",
    "NOffSnap = np.load(\"train/NOffSnap.npy\")\n",
    "angles_train_np = []\n",
    "# Fill the train angles\n",
    "for k,j in enumerate(NOffSnap):\n",
    "    for i in range(j):\n",
    "        angles_train_np.append(angles_train[k])\n",
    "angles_train_np = np.asarray(angles_train_np)\n",
    "\n",
    "# Read the coefficients test\n",
    "# U\n",
    "inp_np_test_U = np.load(\"test/coeffL2U.npy\")\n",
    "# P\n",
    "inp_np_test_P = np.load(\"test/coeffL2P.npy\")\n",
    "# Nut\n",
    "out_np_test = np.load(\"test/coeffL2Nut.npy\")\n",
    "# Read Angles from file test\n",
    "angles_test = np.loadtxt(\"test/angOn_mat.txt\")\n",
    "NOnSnap = np.load(\"test/NOnSnap.npy\")\n",
    "angles_test_np = []\n",
    "# Fill the train angles\n",
    "for k,j in enumerate(NOnSnap):\n",
    "    for i in range(j):\n",
    "        angles_test_np.append(angles_test[k])\n",
    "angles_test_np = np.asarray(angles_test_np)"
   ]
  },
  {
   "cell_type": "code",
   "execution_count": 16,
   "metadata": {},
   "outputs": [
    {
     "ename": "NameError",
     "evalue": "name 'torchvision' is not defined",
     "output_type": "error",
     "traceback": [
      "\u001b[0;31m---------------------------------------------------------------------------\u001b[0m",
      "\u001b[0;31mNameError\u001b[0m                                 Traceback (most recent call last)",
      "\u001b[0;32m<ipython-input-16-0847a38e883c>\u001b[0m in \u001b[0;36m<module>\u001b[0;34m\u001b[0m\n\u001b[1;32m      1\u001b[0m \u001b[0;31m# Train a net without angles\u001b[0m\u001b[0;34m\u001b[0m\u001b[0;34m\u001b[0m\u001b[0;34m\u001b[0m\u001b[0m\n\u001b[0;32m----> 2\u001b[0;31m \u001b[0mt_plot1\u001b[0m\u001b[0;34m,\u001b[0m \u001b[0mlossplottrain1\u001b[0m\u001b[0;34m,\u001b[0m \u001b[0mlossplottest1\u001b[0m\u001b[0;34m,\u001b[0m\u001b[0mmodel1\u001b[0m \u001b[0;34m=\u001b[0m \u001b[0mNet1\u001b[0m\u001b[0;34m(\u001b[0m\u001b[0minp_np_train_U\u001b[0m\u001b[0;34m,\u001b[0m \u001b[0minp_np_test_U\u001b[0m\u001b[0;34m,\u001b[0m \u001b[0mout_np_train\u001b[0m\u001b[0;34m,\u001b[0m \u001b[0mout_np_test\u001b[0m\u001b[0;34m,\u001b[0m  \u001b[0mEpochs\u001b[0m\u001b[0;34m,\u001b[0m \u001b[0mNmU\u001b[0m\u001b[0;34m,\u001b[0m \u001b[0mNmNut\u001b[0m\u001b[0;34m,\u001b[0m \u001b[0mangles_train_np\u001b[0m\u001b[0;34m,\u001b[0m \u001b[0mangles_test_np\u001b[0m\u001b[0;34m,\u001b[0m \u001b[0;32mFalse\u001b[0m\u001b[0;34m)\u001b[0m\u001b[0;34m\u001b[0m\u001b[0;34m\u001b[0m\u001b[0m\n\u001b[0m",
      "\u001b[0;32m<ipython-input-15-8bf8a0315e30>\u001b[0m in \u001b[0;36mNet1\u001b[0;34m(inp_np_train, inp_np_test, out_np_train, out_np_test, epochs, NmU, NmNut, angles_train, angles_test, consider_angles)\u001b[0m\n\u001b[1;32m     37\u001b[0m     \u001b[0mout_test\u001b[0m \u001b[0;34m=\u001b[0m \u001b[0mtorch\u001b[0m\u001b[0;34m.\u001b[0m\u001b[0mfrom_numpy\u001b[0m\u001b[0;34m(\u001b[0m\u001b[0mout_np_test\u001b[0m\u001b[0;34m)\u001b[0m\u001b[0;34m.\u001b[0m\u001b[0mtype\u001b[0m\u001b[0;34m(\u001b[0m\u001b[0mtorch\u001b[0m\u001b[0;34m.\u001b[0m\u001b[0mfloat32\u001b[0m\u001b[0;34m)\u001b[0m\u001b[0;34m\u001b[0m\u001b[0;34m\u001b[0m\u001b[0m\n\u001b[1;32m     38\u001b[0m \u001b[0;34m\u001b[0m\u001b[0m\n\u001b[0;32m---> 39\u001b[0;31m     \u001b[0mx\u001b[0m \u001b[0;34m=\u001b[0m \u001b[0mtorchvision\u001b[0m\u001b[0;34m.\u001b[0m\u001b[0mtransforms\u001b[0m\u001b[0;34m.\u001b[0m\u001b[0mNormalize\u001b[0m\u001b[0;34m(\u001b[0m\u001b[0;34m)\u001b[0m\u001b[0;34m\u001b[0m\u001b[0;34m\u001b[0m\u001b[0m\n\u001b[0m\u001b[1;32m     40\u001b[0m     \u001b[0minp_train\u001b[0m \u001b[0;34m=\u001b[0m \u001b[0mx\u001b[0m\u001b[0;34m(\u001b[0m\u001b[0minp_train\u001b[0m\u001b[0;34m)\u001b[0m\u001b[0;34m\u001b[0m\u001b[0;34m\u001b[0m\u001b[0m\n\u001b[1;32m     41\u001b[0m \u001b[0;34m\u001b[0m\u001b[0m\n",
      "\u001b[0;31mNameError\u001b[0m: name 'torchvision' is not defined"
     ]
    }
   ],
   "source": [
    "# Train a net without angles\n",
    "t_plot1, lossplottrain1, lossplottest1,model1 = Net1(inp_np_train_U, inp_np_test_U, out_np_train, out_np_test,  Epochs, NmU, NmNut, angles_train_np, angles_test_np, False)"
   ]
  },
  {
   "cell_type": "code",
   "execution_count": 3,
   "metadata": {},
   "outputs": [
    {
     "name": "stdout",
     "output_type": "stream",
     "text": [
      "99 loss on train 5.971549034118652\n",
      "99 loss on test 2.5760104656219482\n",
      "199 loss on train 0.16366219520568848\n",
      "199 loss on test 0.05496241897344589\n",
      "299 loss on train 0.06670722365379333\n",
      "299 loss on test 0.02291920594871044\n",
      "399 loss on train 0.04424139857292175\n",
      "399 loss on test 0.01668764464557171\n",
      "499 loss on train 0.034943588078022\n",
      "499 loss on test 0.013666072860360146\n",
      "599 loss on train 0.029168663546442986\n",
      "599 loss on test 0.011586438864469528\n",
      "699 loss on train 0.025034256279468536\n",
      "699 loss on test 0.010009683668613434\n",
      "799 loss on train 0.021206451579928398\n",
      "799 loss on test 0.008731338195502758\n",
      "899 loss on train 0.016993239521980286\n",
      "899 loss on test 0.0068952604196965694\n",
      "999 loss on train 0.015228915959596634\n",
      "999 loss on test 0.006147061008960009\n",
      "1099 loss on train 0.01392076350748539\n",
      "1099 loss on test 0.005573526956140995\n",
      "1199 loss on train 0.01213726494461298\n",
      "1199 loss on test 0.004849158227443695\n",
      "1299 loss on train 0.011355945840477943\n",
      "1299 loss on test 0.0045942761935293674\n",
      "1399 loss on train 0.011431596241891384\n",
      "1399 loss on test 0.004514459986239672\n",
      "1499 loss on train 0.011407840065658092\n",
      "1499 loss on test 0.004481815733015537\n",
      "1599 loss on train 0.0106409452855587\n",
      "1599 loss on test 0.004183221608400345\n",
      "1699 loss on train 0.008487673476338387\n",
      "1699 loss on test 0.003435376565903425\n",
      "1799 loss on train 0.009534541517496109\n",
      "1799 loss on test 0.0037308353930711746\n",
      "1899 loss on train 0.006563661620020866\n",
      "1899 loss on test 0.0026601168792694807\n",
      "1999 loss on train 0.006088059861212969\n",
      "1999 loss on test 0.002477506874129176\n",
      "2099 loss on train 0.01708715222775936\n",
      "2099 loss on test 0.006474438589066267\n",
      "2199 loss on train 0.007364416029304266\n",
      "2199 loss on test 0.002875689882785082\n",
      "2299 loss on train 0.004985997453331947\n",
      "2299 loss on test 0.00203875289298594\n",
      "2399 loss on train 0.010131915099918842\n",
      "2399 loss on test 0.004040584899485111\n",
      "2499 loss on train 0.004668545909225941\n",
      "2499 loss on test 0.0018804867286235094\n",
      "2599 loss on train 0.005170660093426704\n",
      "2599 loss on test 0.0020516144577413797\n",
      "2699 loss on train 0.005953045096248388\n",
      "2699 loss on test 0.0023359241895377636\n",
      "2799 loss on train 0.005832558497786522\n",
      "2799 loss on test 0.0022459044121205807\n",
      "2899 loss on train 0.0036100572906434536\n",
      "2899 loss on test 0.0014620329020544887\n",
      "2999 loss on train 0.0035289423540234566\n",
      "2999 loss on test 0.0014498578384518623\n",
      "3099 loss on train 0.003262761514633894\n",
      "3099 loss on test 0.0013381181051954627\n",
      "3199 loss on train 0.0031709102913737297\n",
      "3199 loss on test 0.0013089529238641262\n",
      "3299 loss on train 0.002926879795268178\n",
      "3299 loss on test 0.001190194976516068\n",
      "3399 loss on train 0.0030067258048802614\n",
      "3399 loss on test 0.0012408292386680841\n",
      "3499 loss on train 0.004707001149654388\n",
      "3499 loss on test 0.0019169666338711977\n",
      "3599 loss on train 0.0025204485282301903\n",
      "3599 loss on test 0.0010289091151207685\n",
      "3699 loss on train 0.0032518787775188684\n",
      "3699 loss on test 0.00128882413264364\n",
      "3799 loss on train 0.005812645424157381\n",
      "3799 loss on test 0.0023334489669650793\n",
      "3899 loss on train 0.0027642641216516495\n",
      "3899 loss on test 0.0011492528719827533\n",
      "3999 loss on train 0.006665140390396118\n",
      "3999 loss on test 0.0025412372779101133\n",
      "4099 loss on train 0.007203639019280672\n",
      "4099 loss on test 0.0027577183209359646\n",
      "4199 loss on train 0.003181158099323511\n",
      "4199 loss on test 0.0013168253935873508\n",
      "4299 loss on train 0.0028532901778817177\n",
      "4299 loss on test 0.0011932330671697855\n",
      "4399 loss on train 0.0017966240411624312\n",
      "4399 loss on test 0.0007538374629803002\n",
      "4499 loss on train 0.004527511075139046\n",
      "4499 loss on test 0.0017443787073716521\n",
      "4599 loss on train 0.0024616969749331474\n",
      "4599 loss on test 0.0009984741918742657\n",
      "4699 loss on train 0.001839467673562467\n",
      "4699 loss on test 0.0007663639262318611\n",
      "4799 loss on train 0.002934170188382268\n",
      "4799 loss on test 0.0012372429482638836\n",
      "4899 loss on train 0.0016458425670862198\n",
      "4899 loss on test 0.0006554299616254866\n",
      "4999 loss on train 0.005246161483228207\n",
      "4999 loss on test 0.0019234244246035814\n",
      "5099 loss on train 0.0050655547529459\n",
      "5099 loss on test 0.002046107081696391\n",
      "5199 loss on train 0.0018483659951016307\n",
      "5199 loss on test 0.0007090797298587859\n",
      "5299 loss on train 0.0032714740373194218\n",
      "5299 loss on test 0.0012199569027870893\n",
      "5399 loss on train 0.0020134523510932922\n",
      "5399 loss on test 0.0008377420017495751\n",
      "5499 loss on train 0.0017459978116676211\n",
      "5499 loss on test 0.0007208827300928533\n",
      "5599 loss on train 0.0016701251734048128\n",
      "5599 loss on test 0.000661119760479778\n",
      "5699 loss on train 0.010839652270078659\n",
      "5699 loss on test 0.004206206649541855\n",
      "5799 loss on train 0.006193105597048998\n",
      "5799 loss on test 0.0023358098696917295\n",
      "5899 loss on train 0.006364170461893082\n",
      "5899 loss on test 0.002482282230630517\n",
      "5999 loss on train 0.001702662673778832\n",
      "5999 loss on test 0.0006641963263973594\n",
      "6099 loss on train 0.0018524539191275835\n",
      "6099 loss on test 0.0007238042308017612\n",
      "6199 loss on train 0.009142209775745869\n",
      "6199 loss on test 0.0035163559950888157\n",
      "6299 loss on train 0.0037518832832574844\n",
      "6299 loss on test 0.0013782570604234934\n",
      "6399 loss on train 0.001987891737371683\n",
      "6399 loss on test 0.0008179086144082248\n",
      "6499 loss on train 0.05967883765697479\n",
      "6499 loss on test 0.021751832216978073\n",
      "6599 loss on train 0.008367444388568401\n",
      "6599 loss on test 0.0031763343140482903\n",
      "6699 loss on train 0.03456665575504303\n",
      "6699 loss on test 0.01268158107995987\n",
      "6799 loss on train 0.006149576045572758\n",
      "6799 loss on test 0.00219077430665493\n",
      "6899 loss on train 0.0025061913765966892\n",
      "6899 loss on test 0.0009555884171277285\n",
      "6999 loss on train 0.02075256034731865\n",
      "6999 loss on test 0.007534622680395842\n",
      "7099 loss on train 0.001071737613528967\n",
      "7099 loss on test 0.00039435073267668486\n",
      "7199 loss on train 0.00310793099924922\n",
      "7199 loss on test 0.0010949465213343501\n",
      "7299 loss on train 0.0029757260344922543\n",
      "7299 loss on test 0.0010997544741258025\n",
      "7399 loss on train 0.021738804876804352\n",
      "7399 loss on test 0.008114585652947426\n",
      "7499 loss on train 0.004711043555289507\n",
      "7499 loss on test 0.0016898376634344459\n",
      "7599 loss on train 0.015750205144286156\n",
      "7599 loss on test 0.005856781732290983\n",
      "7699 loss on train 0.0030773920007050037\n",
      "7699 loss on test 0.0010845905635505915\n",
      "7799 loss on train 0.008629916235804558\n",
      "7799 loss on test 0.003339359536767006\n",
      "7899 loss on train 0.0030191841069608927\n",
      "7899 loss on test 0.0010776284616440535\n",
      "7999 loss on train 0.006284948438405991\n",
      "7999 loss on test 0.002270099939778447\n",
      "8099 loss on train 0.002492843195796013\n",
      "8099 loss on test 0.0009803050197660923\n",
      "8199 loss on train 0.01653474010527134\n",
      "8199 loss on test 0.006073919124901295\n",
      "8299 loss on train 0.012496843002736568\n",
      "8299 loss on test 0.004646770656108856\n",
      "8399 loss on train 0.0032922346144914627\n",
      "8399 loss on test 0.0012228544801473618\n",
      "8499 loss on train 0.0044018980115652084\n",
      "8499 loss on test 0.00163074501324445\n",
      "8599 loss on train 0.002651139162480831\n",
      "8599 loss on test 0.0009692190797068179\n",
      "8699 loss on train 0.018060479313135147\n",
      "8699 loss on test 0.006667982321232557\n",
      "8799 loss on train 0.007760464213788509\n",
      "8799 loss on test 0.002851983532309532\n",
      "8899 loss on train 0.006264332681894302\n",
      "8899 loss on test 0.0023360340856015682\n",
      "8999 loss on train 0.004294695798307657\n",
      "8999 loss on test 0.0015687100822106004\n",
      "9099 loss on train 0.006449695210903883\n",
      "9099 loss on test 0.0023403880186378956\n",
      "9199 loss on train 0.006121461279690266\n",
      "9199 loss on test 0.0023140220437198877\n",
      "9299 loss on train 0.01192933227866888\n",
      "9299 loss on test 0.004471683409065008\n",
      "9399 loss on train 0.0055526020005345345\n",
      "9399 loss on test 0.002119378186762333\n",
      "9499 loss on train 0.000766402343288064\n",
      "9499 loss on test 0.00031076674349606037\n",
      "9599 loss on train 0.01560980360955\n",
      "9599 loss on test 0.005955011583864689\n",
      "9699 loss on train 0.002315916819497943\n",
      "9699 loss on test 0.0008652060059830546\n",
      "9799 loss on train 0.008056838996708393\n",
      "9799 loss on test 0.0029532143380492926\n",
      "9899 loss on train 0.0019382196478545666\n",
      "9899 loss on test 0.0007126926211640239\n",
      "9999 loss on train 0.029003294184803963\n",
      "9999 loss on test 0.010602032765746117\n"
     ]
    }
   ],
   "source": [
    "# Train a net with angles\n",
    "t_plot2, lossplottrain2, lossplottest2,model2 = Net1(inp_np_train_U, inp_np_test_U, out_np_train, out_np_test,  Epochs, NmU, NmNut, angles_train_np, angles_test_np, True)\n"
   ]
  },
  {
   "cell_type": "code",
   "execution_count": 4,
   "metadata": {},
   "outputs": [
    {
     "data": {
      "image/png": "[encoded data removed]",
      "text/plain": [
       "<Figure size 432x288 with 1 Axes>"
      ]
     },
     "metadata": {
      "needs_background": "light"
     },
     "output_type": "display_data"
    }
   ],
   "source": [
    "plt.plot(t_plot1, lossplottrain1, label=\"train1\")\n",
    "plt.plot(t_plot1, lossplottest1, label=\"test1\")\n",
    "plt.plot(t_plot2, lossplottrain2, label=\"train2\")\n",
    "plt.plot(t_plot2, lossplottest2, label=\"test2\")\n",
    "plt.legend()\n",
    "plt.show()"
   ]
  },
  {
   "cell_type": "code",
   "execution_count": 5,
   "metadata": {},
   "outputs": [
    {
     "data": {
      "text/plain": [
       "(10,)"
      ]
     },
     "execution_count": 5,
     "metadata": {},
     "output_type": "execute_result"
    }
   ],
   "source": [
    "inp_np_train_U[100,0:NmU].shape"
   ]
  },
  {
   "cell_type": "code",
   "execution_count": 6,
   "metadata": {},
   "outputs": [],
   "source": [
    "out_model = model1(torch.from_numpy(inp_np_train_U[100,0:NmU]).type(torch.float32))"
   ]
  },
  {
   "cell_type": "code",
   "execution_count": 7,
   "metadata": {},
   "outputs": [],
   "source": [
    "out_torch = torch.from_numpy(out_np_train[100,0:NmNut]).type(torch.float32)"
   ]
  },
  {
   "cell_type": "code",
   "execution_count": 12,
   "metadata": {},
   "outputs": [
    {
     "data": {
      "text/plain": [
       "tensor([  -2.8978,   -3.6177,   -3.1317,  -53.0360,  -87.0661, -226.9347,\n",
       "           9.6484,   -4.6611,  -87.3613,  -50.2747], grad_fn=<MulBackward0>)"
      ]
     },
     "execution_count": 12,
     "metadata": {},
     "output_type": "execute_result"
    }
   ],
   "source": [
    "(out_model - out_torch)/out_torch*100"
   ]
  },
  {
   "cell_type": "code",
   "execution_count": 9,
   "metadata": {},
   "outputs": [
    {
     "data": {
      "text/plain": [
       "tensor([ 4.2969e-03,  8.6416e-04,  2.7014e-03, -2.5519e-04,  7.9460e-06,\n",
       "        -1.8694e-05, -4.2051e-04,  3.2825e-04, -2.2680e-05,  1.2030e-04],\n",
       "       grad_fn=<AddBackward0>)"
      ]
     },
     "execution_count": 9,
     "metadata": {},
     "output_type": "execute_result"
    }
   ],
   "source": [
    "out_model"
   ]
  },
  {
   "cell_type": "code",
   "execution_count": 10,
   "metadata": {},
   "outputs": [
    {
     "data": {
      "text/plain": [
       "tensor([ 4.4251e-03,  8.9659e-04,  2.7887e-03, -5.4338e-04,  6.1436e-05,\n",
       "         1.4727e-05, -3.8351e-04,  3.4430e-04, -1.7944e-04,  2.4193e-04])"
      ]
     },
     "execution_count": 10,
     "metadata": {},
     "output_type": "execute_result"
    }
   ],
   "source": [
    "out_torch"
   ]
  },
  {
   "cell_type": "code",
   "execution_count": null,
   "metadata": {},
   "outputs": [],
   "source": []
  }
 ],
 "metadata": {
  "kernelspec": {
   "display_name": "Python 3",
   "language": "python",
   "name": "python3"
  },
  "language_info": {
   "codemirror_mode": {
    "name": "ipython",
    "version": 3
   },
   "file_extension": ".py",
   "mimetype": "text/x-python",
   "name": "python",
   "nbconvert_exporter": "python",
   "pygments_lexer": "ipython3",
   "version": "3.7.8"
  }
 },
 "nbformat": 4,
 "nbformat_minor": 4
}
